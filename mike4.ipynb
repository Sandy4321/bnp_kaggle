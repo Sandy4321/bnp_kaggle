{
 "cells": [
  {
   "cell_type": "code",
   "execution_count": 3,
   "metadata": {
    "collapsed": true
   },
   "outputs": [],
   "source": [
    "raw_train = pd.read_csv('./data/holdout.csv')\n",
    "target = raw_train['target']"
   ]
  },
  {
   "cell_type": "code",
   "execution_count": 96,
   "metadata": {
    "collapsed": false
   },
   "outputs": [],
   "source": [
    "from __future__ import division\n",
    "\n",
    "def woe_oof(col, target, cv):\n",
    "    res = np.zeros(col.shape)\n",
    "    values = col.unique()\n",
    "    for train, test in cv:\n",
    "        Xtrain, Xtest = col.iloc[train], col.iloc[test]\n",
    "        Ytrain, Ytest = target.iloc[train], target.iloc[test]\n",
    "        mean = Ytrain.sum() / len(Ytrain)\n",
    "        print mean\n",
    "        woe = dict()\n",
    "        for val in values:\n",
    "            try:\n",
    "                good = Ytrain[Xtrain == val].sum()\n",
    "                total = Xtrain.value_counts()[val]\n",
    "                woe[val] =  (total - good) / good\n",
    "                print val, total\n",
    "            except:\n",
    "                woe[val] = np.nan\n",
    "        res[test] = Xtest.apply(lambda x: log(woe[x] / mean))\n",
    "    return res\n",
    "    "
   ]
  },
  {
   "cell_type": "code",
   "execution_count": 97,
   "metadata": {
    "collapsed": false
   },
   "outputs": [
    {
     "name": "stdout",
     "output_type": "stream",
     "text": [
      "0.6\n",
      "a 1\n",
      "c 1\n",
      "b 3\n",
      "0.8\n",
      "a 1\n",
      "c 1\n",
      "b 3\n",
      "[      -inf        inf       -inf       -inf  1.2039728  1.2039728\n",
      "  1.2039728       -inf       -inf       -inf]\n"
     ]
    }
   ],
   "source": [
    "col = pd.Series(['a', 'a', 'c', 'c', 'b', 'b', 'b', 'b', 'b', 'b'])\n",
    "target = raw_train['target'][:len(col)]\n",
    "cv = StratifiedKFold(col, 2)#KFold(len(col), 2)\n",
    "print woe_oof(col, target, cv)"
   ]
  },
  {
   "cell_type": "code",
   "execution_count": 91,
   "metadata": {
    "collapsed": false
   },
   "outputs": [
    {
     "name": "stdout",
     "output_type": "stream",
     "text": [
      "0.75968150561\n",
      "0.760589837513\n",
      "0.761136999068\n",
      "0.76150705271\n",
      "0.762019230769\n"
     ]
    }
   ],
   "source": [
    "from sklearn.cross_validation import KFold, StratifiedKFold\n",
    "col = raw_train.v22\n",
    "target = raw_train['target']\n",
    "cv = StratifiedKFold(col, 5)#KFold(len(col), 2)\n",
    "woe = woe_oof(col, target, cv)"
   ]
  },
  {
   "cell_type": "code",
   "execution_count": 92,
   "metadata": {
    "collapsed": false
   },
   "outputs": [
    {
     "name": "stdout",
     "output_type": "stream",
     "text": [
      "[        nan         nan         nan -0.82375628         nan         nan\n",
      "         nan         nan        -inf         nan -0.82375628         nan\n",
      "         nan         nan -0.23596962         nan         nan         nan\n",
      " -0.9291168          nan -0.1306091          nan -0.9291168          nan\n",
      "         nan -0.41829118         nan         nan -0.73066586         nan]\n"
     ]
    }
   ],
   "source": [
    "print woe[:30]"
   ]
  },
  {
   "cell_type": "code",
   "execution_count": 95,
   "metadata": {
    "collapsed": false
   },
   "outputs": [
    {
     "name": "stdout",
     "output_type": "stream",
     "text": [
      "0.6\n",
      "0.8\n",
      "[      -inf        inf       -inf       -inf  1.2039728  1.2039728\n",
      "  1.2039728       -inf       -inf       -inf]\n"
     ]
    }
   ],
   "source": []
  },
  {
   "cell_type": "code",
   "execution_count": 80,
   "metadata": {
    "collapsed": false
   },
   "outputs": [],
   "source": [
    "v22 = raw_train.v22\n",
    "enough = v22.value_counts() > 5\n",
    "for val in v22.unique():\n",
    "    #rint val\n",
    "    if val is not np.nan and not enough[val]:\n",
    "        v22[v22 == val] = np.nan"
   ]
  },
  {
   "cell_type": "code",
   "execution_count": 87,
   "metadata": {
    "collapsed": false
   },
   "outputs": [
    {
     "name": "stdout",
     "output_type": "stream",
     "text": [
      "3654\n"
     ]
    },
    {
     "data": {
      "text/plain": [
       "0"
      ]
     },
     "execution_count": 87,
     "metadata": {},
     "output_type": "execute_result"
    }
   ],
   "source": [
    "print raw_train.v22.value_counts().sum()"
   ]
  },
  {
   "cell_type": "code",
   "execution_count": 82,
   "metadata": {
    "collapsed": false
   },
   "outputs": [],
   "source": [
    "%%telegram_send Yarrr!\n",
    "pass"
   ]
  }
 ],
 "metadata": {
  "kernelspec": {
   "display_name": "Python 3",
   "language": "python",
   "name": "python3"
  },
  "language_info": {
   "codemirror_mode": {
    "name": "ipython",
    "version": 3
   },
   "file_extension": ".py",
   "mimetype": "text/x-python",
   "name": "python",
   "nbconvert_exporter": "python",
   "pygments_lexer": "ipython3",
   "version": "3.4.3"
  }
 },
 "nbformat": 4,
 "nbformat_minor": 0
}
