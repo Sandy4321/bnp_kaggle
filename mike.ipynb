{
 "cells": [
  {
   "cell_type": "code",
   "execution_count": 1,
   "metadata": {
    "collapsed": true
   },
   "outputs": [],
   "source": [
    "%matplotlib inline\n",
    "import numpy as np\n",
    "import pandas as pd\n",
    "import matplotlib.pyplot as plt\n",
    "from __future__ import print_function"
   ]
  },
  {
   "cell_type": "code",
   "execution_count": 2,
   "metadata": {
    "collapsed": false
   },
   "outputs": [
    {
     "name": "stdout",
     "output_type": "stream",
     "text": [
      "CPU times: user 3.26 s, sys: 124 ms, total: 3.38 s\n",
      "Wall time: 4.06 s\n"
     ]
    }
   ],
   "source": [
    "%%time\n",
    "train = pd.read_csv('data/train.csv', index_col='ID')\n",
    "test = pd.read_csv('data/test.csv', index_col='ID')\n",
    "catcols = train.columns[train.dtypes == 'O']"
   ]
  },
  {
   "cell_type": "code",
   "execution_count": 3,
   "metadata": {
    "collapsed": false
   },
   "outputs": [
    {
     "name": "stdout",
     "output_type": "stream",
     "text": [
      "(114321, 132) (114393, 131)\n",
      "CPU times: user 2min 38s, sys: 813 ms, total: 2min 38s\n",
      "Wall time: 2min 38s\n"
     ]
    }
   ],
   "source": [
    "%%time\n",
    "print (train.shape, test.shape)\n",
    "for i, col in enumerate(catcols):\n",
    "    #print(i, col, '\\t', len(train.loc[:, col].unique()))\n",
    "    vmap = dict([(train.loc[:, col].unique()[i], i) for i in range(len(train.loc[:, col].unique()))])\n",
    "    train.loc[:, col + 'n'] = train.loc[:, col].map(vmap)\n",
    "    test.loc[:, col + 'n'] = test.loc[:, col].map(vmap)"
   ]
  },
  {
   "cell_type": "code",
   "execution_count": 63,
   "metadata": {
    "collapsed": false
   },
   "outputs": [
    {
     "name": "stdout",
     "output_type": "stream",
     "text": [
      "CPU times: user 2.32 s, sys: 280 ms, total: 2.6 s\n",
      "Wall time: 2.59 s\n"
     ]
    }
   ],
   "source": []
  },
  {
   "cell_type": "code",
   "execution_count": 4,
   "metadata": {
    "collapsed": false
   },
   "outputs": [
    {
     "name": "stdout",
     "output_type": "stream",
     "text": [
      "v3 4\n",
      "v22 18211\n",
      "v24 5\n",
      "v30 8\n",
      "v31 4\n",
      "v47 10\n",
      "v52 13\n",
      "v56 123\n",
      "v66 3\n",
      "v71 9\n",
      "v74 3\n",
      "v75 4\n",
      "v79 18\n",
      "v91 8\n",
      "v107 8\n",
      "v110 3\n",
      "v112 23\n",
      "v113 37\n",
      "v125 91\n"
     ]
    }
   ],
   "source": [
    "for col in catcols:\n",
    "    print (col, len(pd.unique(train[col])))"
   ]
  },
  {
   "cell_type": "code",
   "execution_count": 8,
   "metadata": {
    "collapsed": false
   },
   "outputs": [
    {
     "data": {
      "text/plain": [
       "64488"
      ]
     },
     "execution_count": 8,
     "metadata": {},
     "output_type": "execute_result"
    }
   ],
   "source": [
    "len(pd.unique(train['v1']))"
   ]
  },
  {
   "cell_type": "code",
   "execution_count": 5,
   "metadata": {
    "collapsed": false
   },
   "outputs": [
    {
     "data": {
      "text/plain": [
       "v3       3457\n",
       "v22       500\n",
       "v24         0\n",
       "v30     60110\n",
       "v31      3457\n",
       "v47         0\n",
       "v52         3\n",
       "v56      6882\n",
       "v66         0\n",
       "v71         0\n",
       "v74         0\n",
       "v75         0\n",
       "v79         0\n",
       "v91         3\n",
       "v107        3\n",
       "v110        0\n",
       "v112      382\n",
       "v113    55304\n",
       "v125       77\n",
       "dtype: int64"
      ]
     },
     "execution_count": 5,
     "metadata": {},
     "output_type": "execute_result"
    }
   ],
   "source": [
    "train[catcols].isnull().sum()"
   ]
  },
  {
   "cell_type": "code",
   "execution_count": 6,
   "metadata": {
    "collapsed": false,
    "scrolled": true
   },
   "outputs": [
    {
     "data": {
      "image/png": "[encoded data removed]",
      "text/plain": [
       "<matplotlib.figure.Figure at 0x7fcad405e650>"
      ]
     },
     "metadata": {},
     "output_type": "display_data"
    }
   ],
   "source": [
    "plt.hist(np.array(train.isnull().sum(axis=1)), bins=2);"
   ]
  },
  {
   "cell_type": "code",
   "execution_count": 34,
   "metadata": {
    "collapsed": false
   },
   "outputs": [
    {
     "name": "stdout",
     "output_type": "stream",
     "text": [
      "['v3', 'v22', 'v24', 'v30', 'v31', 'v47', 'v52', 'v56', 'v66', 'v71', 'v74', 'v75', 'v79', 'v91', 'v107', 'v110', 'v112', 'v113', 'v125']\n",
      "Index([u'v3', u'v22', u'v24', u'v30', u'v31', u'v47', u'v52', u'v56', u'v66',\n",
      "       u'v71', u'v74', u'v75', u'v79', u'v91', u'v107', u'v110', u'v112',\n",
      "       u'v113', u'v125'],\n",
      "      dtype='object')\n"
     ]
    }
   ],
   "source": []
  },
  {
   "cell_type": "code",
   "execution_count": 7,
   "metadata": {
    "collapsed": false
   },
   "outputs": [
    {
     "data": {
      "image/png": "[encoded data removed]",
      "text/plain": [
       "<matplotlib.figure.Figure at 0x7fcaba5def50>"
      ]
     },
     "metadata": {},
     "output_type": "display_data"
    }
   ],
   "source": [
    "plt.hist(train.isnull().sum(), bins = 100);"
   ]
  },
  {
   "cell_type": "code",
   "execution_count": 74,
   "metadata": {
    "collapsed": false
   },
   "outputs": [
    {
     "ename": "ValueError",
     "evalue": "Can only tuple-index with a MultiIndex",
     "output_type": "error",
     "traceback": [
      "\u001b[1;31m---------------------------------------------------------------------------\u001b[0m",
      "\u001b[1;31mValueError\u001b[0m                                Traceback (most recent call last)",
      "\u001b[1;32m<ipython-input-74-cab4b9a2f93d>\u001b[0m in \u001b[0;36m<module>\u001b[1;34m()\u001b[0m\n\u001b[0;32m      2\u001b[0m \u001b[0mzz\u001b[0m \u001b[1;33m=\u001b[0m \u001b[0mlen\u001b[0m\u001b[1;33m(\u001b[0m\u001b[0mnp\u001b[0m\u001b[1;33m.\u001b[0m\u001b[0mwhere\u001b[0m\u001b[1;33m(\u001b[0m\u001b[1;33m(\u001b[0m\u001b[0mtrain\u001b[0m\u001b[1;33m.\u001b[0m\u001b[0mv22n\u001b[0m\u001b[1;33m.\u001b[0m\u001b[0mvalue_counts\u001b[0m\u001b[1;33m(\u001b[0m\u001b[1;33m)\u001b[0m\u001b[1;33m)\u001b[0m \u001b[1;33m>\u001b[0m \u001b[1;36m30\u001b[0m\u001b[1;33m)\u001b[0m\u001b[1;33m[\u001b[0m\u001b[1;36m0\u001b[0m\u001b[1;33m]\u001b[0m\u001b[1;33m)\u001b[0m\u001b[1;33m\u001b[0m\u001b[0m\n\u001b[0;32m      3\u001b[0m \u001b[0mtrain\u001b[0m\u001b[1;33m.\u001b[0m\u001b[0mloc\u001b[0m\u001b[1;33m[\u001b[0m\u001b[1;33m:\u001b[0m\u001b[1;33m,\u001b[0m \u001b[1;34m'v22_ncut'\u001b[0m\u001b[1;33m]\u001b[0m \u001b[1;33m=\u001b[0m \u001b[0mtrain\u001b[0m\u001b[1;33m.\u001b[0m\u001b[0mloc\u001b[0m\u001b[1;33m[\u001b[0m\u001b[1;33m:\u001b[0m\u001b[1;33m,\u001b[0m \u001b[1;34m'v22n'\u001b[0m\u001b[1;33m]\u001b[0m\u001b[1;33m\u001b[0m\u001b[0m\n\u001b[1;32m----> 4\u001b[1;33m \u001b[0mtrain\u001b[0m\u001b[1;33m.\u001b[0m\u001b[0mv22_ncut\u001b[0m\u001b[1;33m[\u001b[0m\u001b[0mnp\u001b[0m\u001b[1;33m.\u001b[0m\u001b[0mwhere\u001b[0m\u001b[1;33m(\u001b[0m\u001b[1;33m(\u001b[0m\u001b[0mtrain\u001b[0m\u001b[1;33m.\u001b[0m\u001b[0mv22n\u001b[0m\u001b[1;33m.\u001b[0m\u001b[0mvalue_counts\u001b[0m\u001b[1;33m(\u001b[0m\u001b[1;33m)\u001b[0m\u001b[1;33m)\u001b[0m \u001b[1;33m<\u001b[0m \u001b[1;36m30\u001b[0m\u001b[1;33m)\u001b[0m\u001b[1;33m]\u001b[0m\u001b[1;31m# = -99*np.ones(zz)\u001b[0m\u001b[1;33m\u001b[0m\u001b[0m\n\u001b[0m\u001b[0;32m      5\u001b[0m \u001b[1;33m\u001b[0m\u001b[0m\n\u001b[0;32m      6\u001b[0m \u001b[1;31m#len(np.where((train.v22_ncut.value_counts()) > 30)[0])\u001b[0m\u001b[1;33m\u001b[0m\u001b[1;33m\u001b[0m\u001b[0m\n",
      "\u001b[1;32m/home/mike/anaconda/lib/python2.7/site-packages/pandas/core/series.pyc\u001b[0m in \u001b[0;36m__getitem__\u001b[1;34m(self, key)\u001b[0m\n\u001b[0;32m    559\u001b[0m             \u001b[0mkey\u001b[0m \u001b[1;33m=\u001b[0m \u001b[0mcheck_bool_indexer\u001b[0m\u001b[1;33m(\u001b[0m\u001b[0mself\u001b[0m\u001b[1;33m.\u001b[0m\u001b[0mindex\u001b[0m\u001b[1;33m,\u001b[0m \u001b[0mkey\u001b[0m\u001b[1;33m)\u001b[0m\u001b[1;33m\u001b[0m\u001b[0m\n\u001b[0;32m    560\u001b[0m \u001b[1;33m\u001b[0m\u001b[0m\n\u001b[1;32m--> 561\u001b[1;33m         \u001b[1;32mreturn\u001b[0m \u001b[0mself\u001b[0m\u001b[1;33m.\u001b[0m\u001b[0m_get_with\u001b[0m\u001b[1;33m(\u001b[0m\u001b[0mkey\u001b[0m\u001b[1;33m)\u001b[0m\u001b[1;33m\u001b[0m\u001b[0m\n\u001b[0m\u001b[0;32m    562\u001b[0m \u001b[1;33m\u001b[0m\u001b[0m\n\u001b[0;32m    563\u001b[0m     \u001b[1;32mdef\u001b[0m \u001b[0m_get_with\u001b[0m\u001b[1;33m(\u001b[0m\u001b[0mself\u001b[0m\u001b[1;33m,\u001b[0m \u001b[0mkey\u001b[0m\u001b[1;33m)\u001b[0m\u001b[1;33m:\u001b[0m\u001b[1;33m\u001b[0m\u001b[0m\n",
      "\u001b[1;32m/home/mike/anaconda/lib/python2.7/site-packages/pandas/core/series.pyc\u001b[0m in \u001b[0;36m_get_with\u001b[1;34m(self, key)\u001b[0m\n\u001b[0;32m    572\u001b[0m             \u001b[1;32mif\u001b[0m \u001b[0misinstance\u001b[0m\u001b[1;33m(\u001b[0m\u001b[0mkey\u001b[0m\u001b[1;33m,\u001b[0m \u001b[0mtuple\u001b[0m\u001b[1;33m)\u001b[0m\u001b[1;33m:\u001b[0m\u001b[1;33m\u001b[0m\u001b[0m\n\u001b[0;32m    573\u001b[0m                 \u001b[1;32mtry\u001b[0m\u001b[1;33m:\u001b[0m\u001b[1;33m\u001b[0m\u001b[0m\n\u001b[1;32m--> 574\u001b[1;33m                     \u001b[1;32mreturn\u001b[0m \u001b[0mself\u001b[0m\u001b[1;33m.\u001b[0m\u001b[0m_get_values_tuple\u001b[0m\u001b[1;33m(\u001b[0m\u001b[0mkey\u001b[0m\u001b[1;33m)\u001b[0m\u001b[1;33m\u001b[0m\u001b[0m\n\u001b[0m\u001b[0;32m    575\u001b[0m                 \u001b[1;32mexcept\u001b[0m\u001b[1;33m:\u001b[0m\u001b[1;33m\u001b[0m\u001b[0m\n\u001b[0;32m    576\u001b[0m                     \u001b[1;32mif\u001b[0m \u001b[0mlen\u001b[0m\u001b[1;33m(\u001b[0m\u001b[0mkey\u001b[0m\u001b[1;33m)\u001b[0m \u001b[1;33m==\u001b[0m \u001b[1;36m1\u001b[0m\u001b[1;33m:\u001b[0m\u001b[1;33m\u001b[0m\u001b[0m\n",
      "\u001b[1;32m/home/mike/anaconda/lib/python2.7/site-packages/pandas/core/series.pyc\u001b[0m in \u001b[0;36m_get_values_tuple\u001b[1;34m(self, key)\u001b[0m\n\u001b[0;32m    617\u001b[0m \u001b[1;33m\u001b[0m\u001b[0m\n\u001b[0;32m    618\u001b[0m         \u001b[1;32mif\u001b[0m \u001b[1;32mnot\u001b[0m \u001b[0misinstance\u001b[0m\u001b[1;33m(\u001b[0m\u001b[0mself\u001b[0m\u001b[1;33m.\u001b[0m\u001b[0mindex\u001b[0m\u001b[1;33m,\u001b[0m \u001b[0mMultiIndex\u001b[0m\u001b[1;33m)\u001b[0m\u001b[1;33m:\u001b[0m\u001b[1;33m\u001b[0m\u001b[0m\n\u001b[1;32m--> 619\u001b[1;33m             \u001b[1;32mraise\u001b[0m \u001b[0mValueError\u001b[0m\u001b[1;33m(\u001b[0m\u001b[1;34m'Can only tuple-index with a MultiIndex'\u001b[0m\u001b[1;33m)\u001b[0m\u001b[1;33m\u001b[0m\u001b[0m\n\u001b[0m\u001b[0;32m    620\u001b[0m \u001b[1;33m\u001b[0m\u001b[0m\n\u001b[0;32m    621\u001b[0m         \u001b[1;31m# If key is contained, would have returned by now\u001b[0m\u001b[1;33m\u001b[0m\u001b[1;33m\u001b[0m\u001b[0m\n",
      "\u001b[1;31mValueError\u001b[0m: Can only tuple-index with a MultiIndex"
     ]
    }
   ],
   "source": [
    "#plt.hist(train.v22n.values, bins=20);\n",
    "zz = len(np.where((train.v22n.value_counts()) > 30)[0])\n",
    "train.loc[:, 'v22_ncut'] = train.loc[:, 'v22n']\n",
    "train.v22_ncut[train.v22n.value_counts()) < 30]# = -99*np.ones(zz)\n",
    "\n",
    "#len(np.where((train.v22_ncut.value_counts()) > 30)[0])"
   ]
  },
  {
   "cell_type": "code",
   "execution_count": 9,
   "metadata": {
    "collapsed": false
   },
   "outputs": [],
   "source": [
    "train.loc[:, 'user_type'] = (train.isnull().sum(axis=1) > 60)"
   ]
  },
  {
   "cell_type": "code",
   "execution_count": 10,
   "metadata": {
    "collapsed": false
   },
   "outputs": [
    {
     "data": {
      "text/plain": [
       "ID\n",
       "3    False\n",
       "4     True\n",
       "5    False\n",
       "6    False\n",
       "8     True\n",
       "Name: user_type, dtype: bool"
      ]
     },
     "execution_count": 10,
     "metadata": {},
     "output_type": "execute_result"
    }
   ],
   "source": []
  },
  {
   "cell_type": "code",
   "execution_count": 14,
   "metadata": {
    "collapsed": false
   },
   "outputs": [],
   "source": [
    "import csv\n",
    "from sklearn.tree import DecisionTreeClassifier\n",
    "from sklearn.ensemble import ExtraTreesClassifier\n",
    "from sklearn import ensemble\n",
    "def loadETdata():\n",
    "    print('Load data...')\n",
    "    train = pd.read_csv(\"./data/train.csv\")\n",
    "    test = pd.read_csv(\"./data/test.csv\")\n",
    "    return train, test\n",
    "\n",
    "def preprETdata(train, test):\n",
    "    target = train['target'].values\n",
    "    train = train.drop(['ID','target','v8','v23','v25','v31','v36','v37','v46','v51','v53','v54','v63','v73','v75','v79','v81','v82','v89','v92','v95','v105','v107','v108','v109','v110','v116','v117','v118','v119','v123','v124','v128'],axis=1)\n",
    "    id_test = test['ID'].values\n",
    "    test = test.drop(['ID','v8','v23','v25','v31','v36','v37','v46','v51','v53','v54','v63','v73','v75','v79','v81','v82','v89','v92','v95','v105','v107','v108','v109','v110','v116','v117','v118','v119','v123','v124','v128'],axis=1)\n",
    "    #train.loc[:, 'user_type'] = (train.isnull().sum(axis=1) > 60)\n",
    "    #test.loc[:, 'user_type'] = (test.isnull().sum(axis=1) > 60)\n",
    "    print('Clearing...')\n",
    "    for (train_name, train_series), (test_name, test_series) in zip(train.iteritems(),test.iteritems()):\n",
    "        if train_series.dtype == 'O':\n",
    "            #for objects: factorize\n",
    "            train[train_name], tmp_indexer = pd.factorize(train[train_name])\n",
    "            test[test_name] = tmp_indexer.get_indexer(test[test_name])\n",
    "            #but now we have -1 values (NaN)\n",
    "        else:\n",
    "            #for int or float: fill NaN\n",
    "            tmp_len = len(train[train_series.isnull()])\n",
    "            if tmp_len>0:\n",
    "                #print \"mean\", train_series.mean()\n",
    "                train.loc[train_series.isnull(), train_name] = -999 \n",
    "            #and Test\n",
    "            tmp_len = len(test[test_series.isnull()])\n",
    "            if tmp_len>0:\n",
    "                test.loc[test_series.isnull(), test_name] = -999\n",
    "\n",
    "\n",
    "\n",
    "    return train, target, test\n",
    "\n",
    "\n",
    "def trainET(X_train, target, X_test):\n",
    "    print('Training...')\n",
    "    extc = ExtraTreesClassifier(n_estimators=850,max_features= 60,criterion= 'entropy',min_samples_split= 4,\n",
    "                                max_depth= 40, min_samples_leaf= 2, n_jobs = -1)      \n",
    "\n",
    "    extc.fit(X_train,target) \n",
    "\n",
    "    print('Predict...')\n",
    "    y_pred = extc.predict_proba(X_test)\n",
    "    #print y_pred\n",
    "    return y_pred\n"
   ]
  },
  {
   "cell_type": "code",
   "execution_count": null,
   "metadata": {
    "collapsed": true
   },
   "outputs": [],
   "source": [
    "%%time\n",
    "#run ET\n",
    "et_y_pred = trainET(preprETdata(loadETdata()))\n",
    "pd.DataFrame({\"ID\": id_test, \"PredictedProb\": et_y_pred[:,1]}).to_csv('extra_trees.csv',index=False)"
   ]
  },
  {
   "cell_type": "code",
   "execution_count": 15,
   "metadata": {
    "collapsed": false
   },
   "outputs": [],
   "source": [
    "from sklearn.utils import shuffle\n",
    "from sklearn.cross_validation import train_test_split\n",
    "\n",
    "def shuffle_metric(clf, Xtrain, ytrain, ratio, metric, random_state=42):\n",
    "    trainX, testX, trainY, testY = train_test_split(Xtrain, ytrain, train_size=ratio, random_state=random_state)\n",
    "    clf.fit(trainX, trainY)\n",
    "    return metric(testY, clf.predict_proba(testX))\n",
    "\n",
    "def zipped_shuffle_metric(args):\n",
    "    return shuffle_metric(*args)\n",
    "\n",
    "def random_cross_val(clf, Xtrain, ytrain, ratio, times, metric, random_state = 0, n_jobs=8):\n",
    "    results = np.empty(0)\n",
    "    size = len(Xtrain)\n",
    "    if not size == len(ytrain):\n",
    "        raise Exception(\"Different data size\")\n",
    "    results = list()\n",
    "    for i in range(times):\n",
    "        print ('\\r', i,)\n",
    "        results.append(shuffle_metric(clf, Xtrain, ytrain, ratio, metric, i + random_state))\n",
    "        \n",
    "    return np.array(results)\n",
    "\n"
   ]
  },
  {
   "cell_type": "code",
   "execution_count": 13,
   "metadata": {
    "collapsed": false
   },
   "outputs": [
    {
     "name": "stdout",
     "output_type": "stream",
     "text": [
      "Installed ipytelegram.py. To use it, type:\n",
      "  %load_ext ipytelegram\n"
     ]
    },
    {
     "name": "stderr",
     "output_type": "stream",
     "text": [
      "C:\\dev\\Anaconda\\lib\\site-packages\\IPython\\core\\magics\\extension.py:47: UserWarning: %install_ext` is deprecated, please distribute your extension(s)as a python packages.\n",
      "  \"as a python packages.\", UserWarning)\n"
     ]
    }
   ],
   "source": [
    "%load_ext ipytelegram\n",
    "%telegram_setup 188276417:AAEJD5uwNEmqNb87tVZgI4wb9n9ERNiz4AY 102773555"
   ]
  },
  {
   "cell_type": "code",
   "execution_count": 14,
   "metadata": {
    "collapsed": false
   },
   "outputs": [
    {
     "name": "stdout",
     "output_type": "stream",
     "text": [
      "\n"
     ]
    }
   ],
   "source": []
  },
  {
   "cell_type": "code",
   "execution_count": 16,
   "metadata": {
    "collapsed": false
   },
   "outputs": [
    {
     "name": "stdout",
     "output_type": "stream",
     "text": [
      "Clearing...\n"
     ]
    }
   ],
   "source": [
    "#SMALL\n",
    "from sklearn.metrics import log_loss\n",
    "train = pd.read_csv('data/holdout.csv')\n",
    "test = pd.read_csv('data/holdout.csv')\n",
    "Xtrain, ytrain, _ = preprETdata(train, test)\n"
   ]
  },
  {
   "cell_type": "code",
   "execution_count": 17,
   "metadata": {
    "collapsed": false
   },
   "outputs": [
    {
     "name": "stdout",
     "output_type": "stream",
     "text": [
      " 0\n",
      " 1\n",
      " 2\n",
      " 3\n",
      " 4\n",
      " 5\n",
      " 6\n",
      " 7\n",
      " 8\n",
      " 9\n",
      "0.481681288601\n",
      "Wall time: 1min 51s\n"
     ]
    }
   ],
   "source": [
    "%%time\n",
    "%%telegram_send Your shit is ready, Sir!\n",
    "clf = ExtraTreesClassifier(n_estimators=850,max_features= 60,criterion= 'entropy',min_samples_split= 4,\n",
    "                                max_depth= 40, min_samples_leaf= 2, n_jobs = -1)\n",
    "print (random_cross_val(clf, Xtrain, ytrain, .7, 10, log_loss).mean())"
   ]
  },
  {
   "cell_type": "code",
   "execution_count": 19,
   "metadata": {
    "collapsed": false
   },
   "outputs": [
    {
     "data": {
      "text/plain": [
       "array([ 0. ,  0.2,  0.3,  1. ])"
      ]
     },
     "execution_count": 19,
     "metadata": {},
     "output_type": "execute_result"
    }
   ],
   "source": [
    "def ll_tune(data, low, high, low_mul, high_mul):\n",
    "    def make(x, low, high, low_mul, high_mul):\n",
    "        if x < low: x = 0.\n",
    "        elif x > high: x = 1.\n",
    "        elif x < .5: x *= low_mul\n",
    "        else: x *= high_mul\n",
    "        return x\n",
    "    return np.vectorize(make)(data, low, high, low_mul, high_mul)\n",
    "\n",
    "a = np.array([.1, .4, .6, .9])\n",
    "ll_tune(a, .2, .8, .5, .5)"
   ]
  },
  {
   "cell_type": "code",
   "execution_count": 25,
   "metadata": {
    "collapsed": false
   },
   "outputs": [],
   "source": [
    "trainX, testX, trainY, testY = train_test_split(Xtrain, ytrain, train_size=0.7, random_state=42)\n",
    "clf.fit(trainX, trainY)\n",
    "pred = clf.predict_proba(testX)"
   ]
  },
  {
   "cell_type": "code",
   "execution_count": 47,
   "metadata": {
    "collapsed": false
   },
   "outputs": [
    {
     "name": "stdout",
     "output_type": "stream",
     "text": [
      "CPU times: user 3h 27min 53s, sys: 6.03 s, total: 3h 27min 59s\n",
      "Wall time: 3h 27min 46s\n"
     ]
    }
   ],
   "source": [
    "%%time\n",
    "from copy import copy\n",
    "res = list()\n",
    "for low in np.linspace(0., .5, 100):\n",
    "    for high in np.linspace(.5, 1., 100):\n",
    "        for low_mul in np.linspace(1., 1.5, 50):\n",
    "            for high_mul in np.linspace(.5, 1., 10):\n",
    "                res.append((log_loss(testY, ll_tune(copy(pred), low, high, low_mul, high_mul)), (low, high, low_mul, high_mul)))"
   ]
  },
  {
   "cell_type": "code",
   "execution_count": 48,
   "metadata": {
    "collapsed": false,
    "scrolled": false
   },
   "outputs": [
    {
     "name": "stdout",
     "output_type": "stream",
     "text": [
      "0.473614190948 0.473614190948\n",
      "(0.47264788940843361, (0.015151515151515152, 0.78282828282828287, 1.0, 1.0))\n",
      "(0.47272544364267838, (0.015151515151515152, 0.78282828282828287, 1.010204081632653, 1.0))\n",
      "(0.4727518559837206, (0.010101010101010102, 0.78282828282828287, 1.0, 1.0))\n",
      "(0.47278675495712635, (0.0050505050505050509, 0.78282828282828287, 1.0, 1.0))\n",
      "(0.47279114798206623, (0.0, 0.78282828282828287, 1.0, 1.0))\n",
      "(0.47281810690461834, (0.015151515151515152, 0.78282828282828287, 1.0204081632653061, 1.0))\n",
      "(0.47283046420170277, (0.010101010101010102, 0.78282828282828287, 1.010204081632653, 1.0))\n",
      "(0.47286571781501641, (0.0050505050505050509, 0.78282828282828287, 1.010204081632653, 1.0))\n",
      "(0.47287015557694084, (0.0, 0.78282828282828287, 1.010204081632653, 1.0))\n",
      "(0.47287611570989257, (0.015151515151515152, 0.78787878787878785, 1.0, 1.0))\n",
      "(0.47289056855409545, (0.015151515151515152, 0.79797979797979801, 1.0, 1.0))\n",
      "(0.472891132372255, (0.015151515151515152, 0.81818181818181823, 1.0, 1.0))\n",
      "(0.4729241813092297, (0.010101010101010102, 0.78282828282828287, 1.0204081632653061, 1.0))\n",
      "(0.47292548894304304, (0.015151515151515152, 0.78282828282828287, 1.0306122448979591, 1.0))\n",
      "(0.47294176926943371, (0.015151515151515152, 0.79292929292929293, 1.0, 1.0))\n",
      "(0.47295784551328834, (0.015151515151515152, 0.78787878787878785, 1.010204081632653, 1.0))\n",
      "(0.47295978953288187, (0.0050505050505050509, 0.78282828282828287, 1.0204081632653061, 1.0))\n",
      "(0.47296427202998176, (0.0, 0.78282828282828287, 1.0204081632653061, 1.0))\n",
      "(0.47298008228517974, (0.010101010101010102, 0.78787878787878785, 1.0, 1.0))\n",
      "(0.47298190242756666, (0.015151515151515152, 0.79797979797979801, 1.010204081632653, 1.0))\n"
     ]
    }
   ],
   "source": [
    "print (log_loss(testY, pred), log_loss(testY, ll_tune(copy(pred), 0, 1, 1, 1)))\n",
    "for r in sorted(res, key=lambda x: x[0])[:20]:\n",
    "    print (r) "
   ]
  },
  {
   "cell_type": "code",
   "execution_count": 7,
   "metadata": {
    "collapsed": false
   },
   "outputs": [],
   "source": [
    "\n",
    "from sklearn.dummy import BaseEstimator, ClassifierMixin\n",
    "import xgboost as xgb\n",
    "class XGB(BaseEstimator, ClassifierMixin):\n",
    "    def __init__(self, numround, times=1, **kwargs):\n",
    "        self.params = kwargs\n",
    "        self.numround = numround\n",
    "        self.times = times\n",
    "    \n",
    "    def fit(self, X, y):\n",
    "        Xgbtrain = xgb.DMatrix(data = X, label = y)\n",
    "        self.clfs = list()\n",
    "        for i in range(self.times):\n",
    "            self.params['seed'] += 1\n",
    "            self.clfs.append(xgb.train(list(self.params.items()), Xgbtrain, self.numround))\n",
    "        return self\n",
    "    \n",
    "    def predict(self, X):\n",
    "        Xgbtest = xgb.DMatrix(data = X)\n",
    "        results = list()\n",
    "        for clf in self.clfs:\n",
    "            results.append(clf.predict(Xgbtest))\n",
    "        return np.mean(np.array(results), axis = 0)\n",
    "    \n",
    "    def predict_proba(self, X):\n",
    "        return self.predict(X)\n",
    "        proba = list()\n",
    "        proba.append(self.predict(X))\n",
    "        return np.array(proba)"
   ]
  },
  {
   "cell_type": "code",
   "execution_count": 8,
   "metadata": {
    "collapsed": true
   },
   "outputs": [],
   "source": [
    "params = {\n",
    "    'nthread':-1,\n",
    "    'eval_metric': 'logloss',\n",
    "    'eta': .01,\n",
    "    'max_depth': 11,\n",
    "    'subsample': .96,\n",
    "    'colsample_bytree': .45,\n",
    "    'colsample_bylevel': 1,\n",
    "    'lambda': 1,\n",
    "    'alpha': 0,\n",
    "    'objective': 'binary:logistic',\n",
    "    'seed': 42, \n",
    "    'silent': 0,\n",
    "}"
   ]
  },
  {
   "cell_type": "code",
   "execution_count": 73,
   "metadata": {
    "collapsed": false
   },
   "outputs": [
    {
     "name": "stdout",
     "output_type": "stream",
     "text": [
      " 0\n",
      " 1\n",
      " 2\n",
      " 3\n",
      " 4\n",
      " 5\n",
      " 6\n",
      " 7\n",
      " 8\n",
      " 9\n",
      "0.462206476573\n",
      "CPU times: user 48min 29s, sys: 5.91 s, total: 48min 35s\n",
      "Wall time: 48min 32s\n"
     ]
    }
   ],
   "source": [
    "%%time\n",
    "clf = XGB(500, 1,  **params)\n",
    "print (random_cross_val(clf, Xtrain, ytrain, .7, 10, log_loss).mean())"
   ]
  },
  {
   "cell_type": "code",
   "execution_count": 11,
   "metadata": {
    "collapsed": true
   },
   "outputs": [],
   "source": [
    "import time, sys\n",
    "from sklearn.cross_validation import KFold\n",
    "def true_stack(Xtrain, ytrain, Xtest, clfs1, clf2, folds=5):\n",
    "    print(Xtrain.shape, ytrain.shape, Xtest.shape)\n",
    "    #ft2size = np.zeros((1, ytrain.shape[0]))\n",
    "    phase2_train = np.zeros((0, len(clfs1)))\n",
    "    st = time.time()\n",
    "    print ('Fit clfs1')\n",
    "    sys.stdout.flush()\n",
    "    for train, test in KFold(len(Xtrain), n_folds=folds):\n",
    "        X_train = Xtrain[train]\n",
    "        X_test = Xtrain[test]\n",
    "        y_train, y_test = ytrain[train], ytrain[test]\n",
    "        fold_pred = np.zeros((y_test.shape[0], 0))\n",
    "        for clf in clfs1:\n",
    "            print (time.time() - st, 'fitting clf1')\n",
    "            sys.stdout.flush()\n",
    "            clf.fit(X_train, y_train)\n",
    "            print(fold_pred.shape, clf.predict(X_test).shape)\n",
    "            fold_pred = np.hstack((fold_pred, clf.predict(X_test).reshape((fold_pred.shape[0], 1))))\n",
    "        phase2_train = np.vstack((phase2_train, fold_pred))\n",
    "    print (time.time() - st, 'CLF2')\n",
    "    clf2.fit(phase2_train, ytrain)\n",
    "    phase2_test = np.zeros((len(Xtest), 0))\n",
    "    for clf in clfs1:\n",
    "        print (time.time() - st, 'refitting clf1')\n",
    "        sys.stdout.flush()\n",
    "        clf.fit(Xtrain, ytrain)\n",
    "        phase2_test = np.hstack((phase2_test, clf.predict(Xtest).reshape((phase2_test.shape[0], 1))))\n",
    "    return clf2.predict(phase2_test)"
   ]
  },
  {
   "cell_type": "code",
   "execution_count": 17,
   "metadata": {
    "collapsed": false
   },
   "outputs": [
    {
     "name": "stdout",
     "output_type": "stream",
     "text": [
      "(80024,)\n",
      "(80024, 100) (80024,) (34297, 100)\n",
      "Fit clfs1\n",
      "0.0158920288086 fitting clf1\n",
      "(26675, 0) (26675,)\n",
      "570.812372923 fitting clf1\n",
      "(26675, 1) (26675,)\n",
      "727.955374956 fitting clf1\n",
      "(26675, 0) (26675,)\n",
      "1295.01817703 fitting clf1\n",
      "(26675, 1) (26675,)\n",
      "1450.80279398 fitting clf1\n",
      "(26674, 0) (26674,)\n",
      "2015.62945795 fitting clf1\n",
      "(26674, 1) (26674,)\n",
      "2168.33659601 CLF2\n",
      "2168.34070301 refitting clf1\n",
      "3022.27121305 refitting clf1\n",
      "0.46453279891\n",
      "CPU times: user 2h 17min 3s, sys: 9.57 s, total: 2h 17min 13s\n",
      "Wall time: 54min 41s\n"
     ]
    }
   ],
   "source": [
    "%%time\n",
    "from sklearn.linear_model import LinearRegression as LR\n",
    "trainX, testX, trainY, testY = train_test_split(Xtrain.values, ytrain, train_size=.7, random_state=43)\n",
    "clfs1 = [XGB(500, 3,  **params), ExtraTreesClassifier(n_estimators=850,max_features= 60,criterion= 'entropy',min_samples_split= 4,\n",
    "                                max_depth= 40, min_samples_leaf= 2, n_jobs = -1)]\n",
    "clf2 = LR()\n",
    "print(trainY.shape)\n",
    "stpred = true_stack(trainX, trainY, testX, clfs1, clf2, 3)\n",
    "print (log_loss(testY, stpred))"
   ]
  },
  {
   "cell_type": "code",
   "execution_count": 19,
   "metadata": {
    "collapsed": false
   },
   "outputs": [
    {
     "name": "stdout",
     "output_type": "stream",
     "text": [
      "Wall time: 10.6 s\n"
     ]
    }
   ],
   "source": [
    "%%time\n",
    "trainX, testX, trainY, testY = train_test_split(Xtrain, ytrain, train_size=0.7, random_state=42)\n",
    "clf.fit(trainX, trainY)\n",
    "pred = clf.predict_proba(testX)"
   ]
  },
  {
   "cell_type": "code",
   "execution_count": 26,
   "metadata": {
    "collapsed": false
   },
   "outputs": [
    {
     "data": {
      "text/plain": [
       "array([ 0.10364842,  0.4       ,  0.6       ,  0.89635158,  0.00345375,\n",
       "        0.99644595])"
      ]
     },
     "execution_count": 26,
     "metadata": {},
     "output_type": "execute_result"
    }
   ],
   "source": [
    "def power_tune(data, th, power):\n",
    "    data[np.abs(data - .5) > th - .5] = ((np.abs(data - .5) ** power) * np.sign(data - .5) + .5)[np.abs(data - .5) > th - .5]\n",
    "    return data\n",
    "\n",
    "a = np.array([.1, .4, .6, .9, 0., .9999])\n",
    "power_tune(a, .8, 1.01)"
   ]
  },
  {
   "cell_type": "code",
   "execution_count": null,
   "metadata": {
    "collapsed": false
   },
   "outputs": [],
   "source": [
    "%%time\n",
    "from copy import copy\n",
    "res = list()\n",
    "for p in np.linspace(1., 1.1, 1000):\n",
    "    for th in np.linspace(.95, 1., 100):\n",
    "        res.append((log_loss(testY, power_tune(copy(pred), th, p)), (p, th)))"
   ]
  },
  {
   "cell_type": "code",
   "execution_count": null,
   "metadata": {
    "collapsed": false
   },
   "outputs": [],
   "source": [
    "%%telegram_send Yarrr!\n",
    "print ('', log_loss(testY, pred))\n",
    "for r in sorted(res, key=lambda x: x[0])[:40]:\n",
    "    print (r) "
   ]
  }
 ],
 "metadata": {
  "kernelspec": {
   "display_name": "Python 3",
   "language": "python",
   "name": "python3"
  },
  "language_info": {
   "codemirror_mode": {
    "name": "ipython",
    "version": 3
   },
   "file_extension": ".py",
   "mimetype": "text/x-python",
   "name": "python",
   "nbconvert_exporter": "python",
   "pygments_lexer": "ipython3",
   "version": "3.4.3"
  }
 },
 "nbformat": 4,
 "nbformat_minor": 0
}
